{
 "cells": [
  {
   "cell_type": "markdown",
   "id": "d16c6997-4285-4daa-8609-61eb567de8f5",
   "metadata": {},
   "source": [
    "**Social media data analysis - Date of Data: (insert accordingly)**"
   ]
  },
  {
   "cell_type": "markdown",
   "id": "4c5df1e8-f460-4d31-acaf-992151798a5b",
   "metadata": {},
   "source": [
    "This notebook is a simplified version of the one used for the UCL Social Consultancy Challenge 2024.\n",
    "\n",
    "To run any code, please Ctrl + Enter else go to the top, select Run>Run Selected Cell or Run All. \n",
    "\n",
    "Steps to obtain data\n",
    "1.\tGo to instagram.com and sign-in. Click on the “More” button at the bottom left, followed by Settings.\n",
    "2.\tClick “Account Center”.\n",
    "3.\tClick “Your information and permissions” followed by “Download your information”.\n",
    "4.\tClick “Download or transfer information”\n",
    "5.\tClick the account which you want to download data from>All available information>Download to device\n",
    "6.\tSelect “All time” for “Date Range” and “JSON” for format>Create files\n",
    "7.\tClick “Download your information”>Download\n",
    "8.\tOnce the file is ready, download and unzip the file.\r",
    "9.\tFind “audience_insights.json”, “content_interactions.json”, “followers_1.json”, “following.json”, “liked_posts.json”, “post_comments_1.json”, “posts.json”, “reels.json” and put it in your working folder with this notebook to run the analysis. Not if any file is missing or renamed, there will be errors..\r",
    "10. Create an 'Images' folder in the working folder\n"
   ]
  },
  {
   "cell_type": "markdown",
   "id": "e0bc1eea-0f9c-4724-a84a-ab096b079ea6",
   "metadata": {},
   "source": [
    "**0. Install Relevant Packages**\n",
    "\n",
    "If this is your first time using this notebook, remove all the # in front of the next box only."
   ]
  },
  {
   "cell_type": "code",
   "execution_count": null,
   "id": "8d571053-3206-4db6-9996-21eb30bb95ca",
   "metadata": {},
   "outputs": [],
   "source": [
    "#!pip install pandas\n",
    "#!pip install numpy\n",
    "#!pip install geopandas\n",
    "#!pip install matplotlib\n",
    "#!pip install datetime\n",
    "#!pip install wordcloud"
   ]
  },
  {
   "cell_type": "markdown",
   "id": "da8db742-290d-4fca-9fa1-d4eac4792829",
   "metadata": {},
   "source": [
    "**1. Import Relevant Packages**\n",
    "\n",
    "This section imports the relevant packages for analysis and functions. No action required."
   ]
  },
  {
   "cell_type": "code",
   "execution_count": null,
   "id": "bbc6ec15-1825-482d-8a3f-d9fd21ef5323",
   "metadata": {},
   "outputs": [],
   "source": [
    "import json\n",
    "import pandas as pd\n",
    "import numpy as np\n",
    "import geopandas as gpd\n",
    "import matplotlib.pyplot as plt\n",
    "import re\n",
    "import datetime\n",
    "from wordcloud import WordCloud\n",
    "\n",
    "#put before and after the items in a print statement to bold (e.g. print(f\"{BOLD}Mar 13 - Jun 10 vs. Dec 14 - Mar 12{END}\"))\n",
    "BOLD = '\\033[1m'\n",
    "END = '\\033[0m'"
   ]
  },
  {
   "cell_type": "code",
   "execution_count": null,
   "id": "9f4ac9f0-f0ab-4f59-8c5d-b36ee407f347",
   "metadata": {},
   "outputs": [],
   "source": [
    "def plot_average_interaction_day_time(df, column1, column2, column3, savepath):\n",
    "    # Calculate the average interaction value for each unique combination of day and time\n",
    "    avg_interaction = df.groupby([column1, column2])[column3].mean().reset_index()\n",
    "\n",
    "    # Define the correct order of days\n",
    "    day_order = ['Monday', 'Tuesday', 'Wednesday', 'Thursday', 'Friday', 'Saturday', 'Sunday']\n",
    "\n",
    "    # Map day names to their corresponding order\n",
    "    avg_interaction['DayOrder'] = avg_interaction[column1].map({day: i for i, day in enumerate(day_order)})\n",
    "\n",
    "    # Sort the DataFrame by day order\n",
    "    avg_interaction.sort_values(by='DayOrder', inplace=True)\n",
    "\n",
    "    # Scale the interaction values for marker size\n",
    "    size_scale_factor = 10\n",
    "    scaled_interaction = avg_interaction[column3] * size_scale_factor\n",
    "\n",
    "    # Create a scatter plot\n",
    "    plt.figure(figsize=(12, 6))  # Slightly wider plot for better readability\n",
    "    scatter = plt.scatter(avg_interaction['DayOrder'], avg_interaction[column2], s=scaled_interaction,\n",
    "                          c=avg_interaction[column3], cmap='viridis', alpha=0.7)  # Use colormap\n",
    "\n",
    "    plt.xlabel('Day of the Week', fontsize=12)\n",
    "    plt.ylabel('Time of Day (24-hour format)', fontsize=12)\n",
    "    plt.title('Average Interaction Value by Day and Time', fontsize=14, fontweight = 'bold')\n",
    "    plt.xticks(range(len(day_order)), day_order, rotation=45, ha='right', fontsize=10)\n",
    "    plt.yticks(range(24), [f'{hour:02}:00' for hour in range(24)], fontsize=10) \n",
    "    \n",
    "    # Colorbar that matches the actual interaction values\n",
    "    cbar = plt.colorbar(scatter)\n",
    "    cbar.set_label('Average Interaction Value', fontsize=12)\n",
    "\n",
    "    #save the plot\n",
    "    plt.savefig(savepath, dpi=300, bbox_inches='tight', transparent = True) "
   ]
  },
  {
   "cell_type": "markdown",
   "id": "dfccfde2-5f01-4bef-b8b3-dbee5beb915b",
   "metadata": {},
   "source": [
    "**2a. Load data for followers/following**\n",
    "\n",
    "This section loads the Followers and Following data. No action required."
   ]
  },
  {
   "cell_type": "code",
   "execution_count": null,
   "id": "b11049ab-8fc9-45a2-afd8-67248b08a392",
   "metadata": {},
   "outputs": [],
   "source": [
    "#load following data\n",
    "with open('following.json', 'r', encoding='utf-8') as file_object:\n",
    "    following = json.load(file_object)"
   ]
  },
  {
   "cell_type": "code",
   "execution_count": null,
   "id": "ad4bdb79-437e-4a45-8078-b0d7b8b4e939",
   "metadata": {},
   "outputs": [],
   "source": [
    "#extract the 'value' fields so we know who we are following\n",
    "following_list = [item['value'] for following in following['relationships_following'] for item in following['string_list_data']]"
   ]
  },
  {
   "cell_type": "code",
   "execution_count": null,
   "id": "b7c73191-bbd6-45b9-912c-77cddd8edacb",
   "metadata": {},
   "outputs": [],
   "source": [
    "#load followers data\n",
    "with open('followers_1.json', 'r', encoding='utf-8') as file_object:\n",
    "    followers = json.load(file_object)"
   ]
  },
  {
   "cell_type": "code",
   "execution_count": null,
   "id": "150e7406-0a97-44a2-a176-9dc7c566e160",
   "metadata": {},
   "outputs": [],
   "source": [
    "#extract the 'value' fields so we know who are our followers\n",
    "followers_list = [entry['string_list_data'][0]['value'] for entry in followers if entry['string_list_data']]"
   ]
  },
  {
   "cell_type": "markdown",
   "id": "2b81ed45-8f3e-4b7d-99fe-8e9a8c0b0d41",
   "metadata": {},
   "source": [
    "**2b. Filter out potential collaborators (e.g. Community groups not following back)**\n",
    "\n",
    "This section filters out potential collaborators. In the next box, additional words can be added to filter out relevant usernames. The last box prints users who are not following back."
   ]
  },
  {
   "cell_type": "code",
   "execution_count": null,
   "id": "9699e480-7a6a-47c0-93ab-999a3966f8bb",
   "metadata": {},
   "outputs": [],
   "source": [
    "#skip this step if you do not want to filter out accounts with any key words\n",
    "#update accordingly\n",
    "filter_words = ['community', 'london']\n",
    "\n",
    "#filter the following list\n",
    "following_filtered_list = [username for username in following_list if any(filter_word in username.lower() for filter_word in filter_words)]\n",
    "print(following_filtered_list)\n",
    "\n",
    "#filter the followers list\n",
    "followers_filtered_list = [username for username in followers_list if any(filter_word in username.lower() for filter_word in filter_words)]\n",
    "print(followers_filtered_list)"
   ]
  },
  {
   "cell_type": "code",
   "execution_count": null,
   "id": "46247355-b49d-445e-9cb1-e6dff0c40eff",
   "metadata": {},
   "outputs": [],
   "source": [
    "#convert list to sets\n",
    "following_set = set(following_filtered_list) #if not filtering for filter words, you can replace \"following_filtered_list\" with \"following_list\"\n",
    "followers_set = set(followers_filtered_list) #if not filtering for filter words, you can replace \"followers_filtered_list\" with \"followering_list\"\n",
    "\n",
    "#find the difference (followers not in following)\n",
    "not_following_back = followers_set - following_set\n",
    "\n",
    "#convert the result back to a list\n",
    "not_following_back_list = list(not_following_back)\n",
    "\n",
    "#print the usernames or IDs that are not following back\n",
    "print(\"Users not following back:\", not_following_back_list)"
   ]
  },
  {
   "cell_type": "markdown",
   "id": "9f71303c-ef9f-4015-8039-4de9f0c018c5",
   "metadata": {},
   "source": [
    "**3. Audience Insights**\n",
    "\n",
    "This section presents the demographic breakdown of the Instagram followers. No action required."
   ]
  },
  {
   "cell_type": "code",
   "execution_count": null,
   "id": "44f38320-46ec-4bcd-9301-37084e327bd7",
   "metadata": {},
   "outputs": [],
   "source": [
    "#load audience insights\n",
    "with open('audience_insights.json', 'r', encoding='utf-8') as file_object:\n",
    "    audienceinsights = json.load(file_object)"
   ]
  },
  {
   "cell_type": "code",
   "execution_count": null,
   "id": "692746ef-512e-4a20-aeda-02220c4fbd87",
   "metadata": {},
   "outputs": [],
   "source": [
    "audienceinsights['organic_insights_audience'][0]['string_map_data']"
   ]
  },
  {
   "cell_type": "code",
   "execution_count": null,
   "id": "19aeacad-4af5-48b1-9d6a-3adcb2925097",
   "metadata": {},
   "outputs": [],
   "source": [
    "follower_count = audienceinsights['organic_insights_audience'][0]['string_map_data']['Followers']['value']\n",
    "print(follower_count)"
   ]
  },
  {
   "cell_type": "code",
   "execution_count": null,
   "id": "8f3536a7-c988-472b-aea8-96b40c0dd136",
   "metadata": {},
   "outputs": [],
   "source": [
    "city = audienceinsights['organic_insights_audience'][0]['string_map_data']['Follower Percentage by City']['value']\n",
    "print(city)"
   ]
  },
  {
   "cell_type": "code",
   "execution_count": null,
   "id": "155edc68-b55a-4dc9-a399-7bbf72c4335f",
   "metadata": {},
   "outputs": [],
   "source": [
    "country = audienceinsights['organic_insights_audience'][0]['string_map_data']['Follower Percentage by Country']['value']\n",
    "print(country)"
   ]
  },
  {
   "cell_type": "code",
   "execution_count": null,
   "id": "4c0e1ada-41ad-45cb-8c66-e0f1268ceaa2",
   "metadata": {},
   "outputs": [],
   "source": [
    "age_gender = audienceinsights['organic_insights_audience'][0]['string_map_data']['Follower Percentage by Age for All Genders']['value']\n",
    "print(age_gender)"
   ]
  },
  {
   "cell_type": "code",
   "execution_count": null,
   "id": "e3666bdd-0cec-4dba-9438-f775291a682b",
   "metadata": {},
   "outputs": [],
   "source": [
    "#split by commas\n",
    "split_items = age_gender.split(\", \")\n",
    "\n",
    "#initialize empty lists for age groups and percentages\n",
    "age_groups = []\n",
    "percentages = []\n",
    "\n",
    "#extract age groups and percentages\n",
    "for item in split_items:\n",
    "    age, percent_str = item.split(\": \")\n",
    "    age_groups.append(age)\n",
    "    percentages.append(float(percent_str.replace(\"%\", \"\")))\n",
    "\n",
    "#create a pie chart\n",
    "plt.figure(figsize=(8, 8))\n",
    "wedges, _ = plt.pie(percentages, labels=[f\"{age} ({percent:.1f}%)\" for age, percent in zip(age_groups, percentages)], startangle=45, wedgeprops={'edgecolor': 'black'})\n",
    "\n",
    "#add a legend with labels only\n",
    "#plt.legend(wedges, age_groups, title=\"Age Groups\", loc=\"upper left\")\n",
    "\n",
    "plt.title('Age Group Distribution', fontweight=\"bold\")\n",
    "plt.axis('equal')  # equal aspect ratio ensures the pie chart is drawn as a circle\n",
    "\n",
    "#save the plot\n",
    "plt.savefig('Images/agegroupdistributionpie.png', dpi=300, bbox_inches='tight', transparent = True) "
   ]
  },
  {
   "cell_type": "code",
   "execution_count": null,
   "id": "1a539c41-7b32-45ce-a3c8-caa580231d31",
   "metadata": {},
   "outputs": [],
   "source": [
    "age_male = audienceinsights['organic_insights_audience'][0]['string_map_data']['Follower Percentage by Age for Men']['value']\n",
    "print(age_male)"
   ]
  },
  {
   "cell_type": "code",
   "execution_count": null,
   "id": "cb1a7876-d178-40dc-beef-7d100da77b80",
   "metadata": {},
   "outputs": [],
   "source": [
    "#split by commas\n",
    "split_items = age_male.split(\", \")\n",
    "\n",
    "#initialize empty lists for age groups and percentages\n",
    "age_groups = []\n",
    "percentages = []\n",
    "\n",
    "#extract age groups and percentages\n",
    "for item in split_items:\n",
    "    age, percent_str = item.split(\": \")\n",
    "    age_groups.append(age)\n",
    "    percentages.append(float(percent_str.replace(\"%\", \"\")))\n",
    "\n",
    "#create a pie chart\n",
    "plt.figure(figsize=(8, 8))\n",
    "wedges, _ = plt.pie(percentages, labels=[f\"{age} ({percent:.1f}%)\" for age, percent in zip(age_groups, percentages)], startangle=45, wedgeprops={'edgecolor': 'black'})\n",
    "\n",
    "#add a legend with labels only\n",
    "#plt.legend(wedges, age_groups, title=\"Age Groups\", loc=\"upper left\")\n",
    "\n",
    "plt.title('Age Group Distribution (Male)', fontweight=\"bold\")\n",
    "plt.axis('equal')  # equal aspect ratio ensures the pie chart is drawn as a circle\n",
    "\n",
    "#show the plot\n",
    "plt.show()"
   ]
  },
  {
   "cell_type": "code",
   "execution_count": null,
   "id": "04d5f052-30e1-49ee-8561-fbb65029793e",
   "metadata": {},
   "outputs": [],
   "source": [
    "age_female = audienceinsights['organic_insights_audience'][0]['string_map_data']['Follower Percentage by Age for Women']['value']\n",
    "print(age_female)"
   ]
  },
  {
   "cell_type": "code",
   "execution_count": null,
   "id": "3b13d63e-e01c-4ecf-9602-da70c3830f21",
   "metadata": {},
   "outputs": [],
   "source": [
    "#split by commas\n",
    "split_items = age_female.split(\", \")\n",
    "\n",
    "#initialize empty lists for age groups and percentages\n",
    "age_groups = []\n",
    "percentages = []\n",
    "\n",
    "#extract age groups and percentages\n",
    "for item in split_items:\n",
    "    age, percent_str = item.split(\": \")\n",
    "    age_groups.append(age)\n",
    "    percentages.append(float(percent_str.replace(\"%\", \"\")))\n",
    "\n",
    "#create a pie chart\n",
    "plt.figure(figsize=(8, 8))\n",
    "wedges, _ = plt.pie(percentages, labels=[f\"{age} ({percent:.1f}%)\" for age, percent in zip(age_groups, percentages)], startangle=45, wedgeprops={'edgecolor': 'black'})\n",
    "\n",
    "#add a legend with labels only\n",
    "#plt.legend(wedges, age_groups, title=\"Age Groups\", loc=\"upper left\")\n",
    "\n",
    "plt.title('Age Group Distribution (Female)', fontweight=\"bold\")\n",
    "plt.axis('equal')  # equal aspect ratio ensures the pie chart is drawn as a circle\n",
    "\n",
    "#show the plot\n",
    "plt.show()"
   ]
  },
  {
   "cell_type": "code",
   "execution_count": null,
   "id": "645a07a3-bff2-447a-868a-44128e4af0c5",
   "metadata": {},
   "outputs": [],
   "source": [
    "# Parse the data\n",
    "def parse_data(data_str):\n",
    "    data = {}\n",
    "    for item in data_str.split(\", \"):\n",
    "        age, percent_str = item.split(\": \")\n",
    "        data[age] = float(percent_str.replace(\"%\", \"\"))\n",
    "    return data\n",
    "\n",
    "age_gender_data = parse_data(age_gender)\n",
    "age_male_data = parse_data(age_male)\n",
    "age_female_data = parse_data(age_female)\n",
    "\n",
    "# Create a line graph\n",
    "plt.figure(figsize=(10, 6))\n",
    "plt.plot(age_groups, age_gender_data.values(), label='Overall')\n",
    "plt.plot(age_groups, age_male_data.values(), label='Male')\n",
    "plt.plot(age_groups, age_female_data.values(), label='Female')\n",
    "plt.xlabel('Age Groups')\n",
    "plt.ylabel('Percentage')\n",
    "plt.title('Age Group Distribution', fontweight = \"bold\")\n",
    "plt.legend()\n",
    "plt.grid(True)\n",
    "\n",
    "#save the plot\n",
    "plt.savefig('Images/agegroupdistributiongraph.png', dpi=300, bbox_inches='tight', transparent = True) "
   ]
  },
  {
   "cell_type": "code",
   "execution_count": null,
   "id": "9ce9bae7-a52e-4d65-8981-6383e3e0b62f",
   "metadata": {},
   "outputs": [],
   "source": [
    "female = audienceinsights['organic_insights_audience'][0]['string_map_data']['Total Follower Percentage for Women']['value']\n",
    "print(female)\n",
    "male = audienceinsights['organic_insights_audience'][0]['string_map_data']['Total Follower Percentage for Men']['value']\n",
    "print(male)"
   ]
  },
  {
   "cell_type": "markdown",
   "id": "06681598-c569-457b-85c5-0c6907c41b09",
   "metadata": {},
   "source": [
    "**4 Content Interactions**\n",
    "\n",
    "This section shows mainly the difference between various types of interactions between two time periods as defined by Instagram. Example of the time period is Mar 13- Jun 10 2024 vs. Dec 14 2023 - Mar 12 2024)\n",
    "\n",
    "Definitions\n",
    "- Content Interactions are when users interact directly with your posts and stories i.e. how many likes, comments, shares and saves you received.\n",
    "- Post Interactions are when users interactly directly with your posts i.e. how many likes, comments, shares and saves you received."
   ]
  },
  {
   "cell_type": "code",
   "execution_count": null,
   "id": "f618586e-8890-4ebc-98d3-fb1078b1c455",
   "metadata": {},
   "outputs": [],
   "source": [
    "#load content interactions\n",
    "with open('content_interactions.json', 'r', encoding='utf-8') as file_object:\n",
    "    content_interactions = json.load(file_object)"
   ]
  },
  {
   "cell_type": "code",
   "execution_count": null,
   "id": "d56d7967-a505-480a-ad7e-3c474cb0672d",
   "metadata": {},
   "outputs": [],
   "source": [
    "print(content_interactions)"
   ]
  },
  {
   "cell_type": "code",
   "execution_count": null,
   "id": "cdf08080-81a8-4ff6-9cb4-34d0ee82d3aa",
   "metadata": {},
   "outputs": [],
   "source": [
    "content_interactions['organic_insights_interactions'][0]['string_map_data']"
   ]
  },
  {
   "cell_type": "code",
   "execution_count": null,
   "id": "0711bf09-e3e3-4675-a84f-ad38344d44f8",
   "metadata": {},
   "outputs": [],
   "source": [
    "content_interactions_delta = content_interactions['organic_insights_interactions'][0]['string_map_data']\n",
    "content_interactions_values = {\n",
    "    'Content Interactions': content_interactions_delta['Content Interactions Delta']['value'],\n",
    "    'Post Interactions': content_interactions_delta['Post Interactions Delta']['value'],\n",
    "    'Story Interactions': content_interactions_delta['Story Interactions Delta']['value'],\n",
    "    'Video Interactions': content_interactions_delta['Video Interactions Delta']['value'],\n",
    "    'Reels Interactions': content_interactions_delta['Reels Interactions Delta']['value'],\n",
    "    'Live Video Interactions': content_interactions_delta['Live Video Interactions Delta']['value'],\n",
    "    'Accounts Engaged': content_interactions_delta['Accounts Engaged Delta']['value']\n",
    "}\n",
    "\n",
    "#edit this line to change comparison date as shown in data above\n",
    "print(f\"{BOLD}Mar 13 - Jun 10 vs. Dec 14 - Mar 12{END}\")\n",
    "for metric, value in content_interactions_values.items():\n",
    "    #remove the percentage sign and anything after it by splitting after first space\n",
    "    value_without_percent = value.split(\" \")[0] \n",
    "    print(f\"{metric}: {value_without_percent}\") "
   ]
  },
  {
   "cell_type": "markdown",
   "id": "874d4992-10d0-4ea2-812b-27fe56236761",
   "metadata": {},
   "source": [
    "**5 Posts**\n",
    "\n",
    "This section allows you to see which post performs better based on certain metrics, plot visuals of selected metric against space/time/space and time to understand when to post.\n",
    "\n",
    "Available metrics for posts: Profile visits, Impressions, Follows, Accounts reached, Saves, Likes, Comments, Shares\n",
    "\n",
    "Available functions\n",
    "- post_data.sort_values(by='insert one of above metrics here', ascending = False)\n",
    "     - This sorts all available posts according to the top metric selected\n",
    "     - Replace 'insert one of above metrics here'\n",
    "- plot_average_interaction_day(post_data, 'Day of Creation', 'insert one of above metrics here', 'Images/yourfilename.png')\n",
    "     - This plots a bar graph of the selected metric for the entire week\n",
    "     - Replace 'insert one of above metrics here' and 'yourfilename' with your ideal filename\n",
    "- plot_average_interaction_time(post_data, 'Hour of Creation', 'insert one of above metrics here', 'Images/yourfilename.png')\n",
    "     - This plots a line graph of the selected metric for the entire 24 hours in a day\n",
    "     - Replace 'insert one of above metrics here' and 'yourfilename' with your ideal filename\n",
    "- plot_average_interaction_day_time(post_data, 'Day of Creation', 'Hour of Creation', 'insert one of above metrics here', 'Images/yourfilename.png')\n",
    "     - This plots a dot plot of the average of a selected metric for each time of the day and day of the week\n",
    "     - Replace 'insert one of above metrics here' and 'yourfilename' with your ideal filename"
   ]
  },
  {
   "cell_type": "code",
   "execution_count": null,
   "id": "edc9a012-ce12-4c35-b3c3-938045640e94",
   "metadata": {},
   "outputs": [],
   "source": [
    "#load posts\n",
    "with open('posts.json', 'r', encoding='utf-8') as file_object:\n",
    "    posts = json.load(file_object)"
   ]
  },
  {
   "cell_type": "code",
   "execution_count": null,
   "id": "3fd57b65-c648-4b49-8bb8-b64817ff52d8",
   "metadata": {},
   "outputs": [],
   "source": [
    "#posts['organic_insights_posts'][0]['media_map_data']['Media Thumbnail']['title']\n",
    "#posts['organic_insights_posts'][0]['string_map_data']"
   ]
  },
  {
   "cell_type": "code",
   "execution_count": null,
   "id": "6c6fd0d9-bfa6-42d1-b815-2567d911486b",
   "metadata": {},
   "outputs": [],
   "source": [
    "#creates a dataframe of the metrics for each post\n",
    "#initialize lists to store data\n",
    "titles = []\n",
    "timestamps = []\n",
    "days_of_week = []\n",
    "hours_of_creation = []\n",
    "\n",
    "#initialize a dictionary for fields to be converted to integers\n",
    "post_data = {\n",
    "    'Profile visits': [],\n",
    "    'Impressions': [],\n",
    "    'Follows': [],\n",
    "    'Accounts reached': [],\n",
    "    'Saves': [],\n",
    "    'Likes': [],\n",
    "    'Comments': [],\n",
    "    'Shares': []\n",
    "}\n",
    "\n",
    "#extract relevant data for all items\n",
    "for post in posts['organic_insights_posts']:\n",
    "    titles.append(post['media_map_data'].get('Media Thumbnail', {}).get('title', 'N/A'))\n",
    "    timestamp = post['string_map_data']['Creation Timestamp']['timestamp']\n",
    "    dt = datetime.datetime.fromtimestamp(timestamp)\n",
    "    timestamps.append(dt.strftime('%Y-%m-%d %H:%M:%S'))\n",
    "    days_of_week.append(dt.strftime('%A'))\n",
    "    hours_of_creation.append(dt.hour)\n",
    "\n",
    "    #convert specific fields to integers, handling errors\n",
    "    for key in post_data.keys():\n",
    "        try:\n",
    "            value = post['string_map_data'].get(key, {}).get('value', 'N/A')\n",
    "            #if the value is already an integer, no conversion is needed\n",
    "            if isinstance(value, int):\n",
    "                post_data[key].append(value)\n",
    "            #if the value is a string containing a number, convert to an integer\n",
    "            elif isinstance(value, str) and value.isdigit():\n",
    "                post_data[key].append(int(value))\n",
    "            else:\n",
    "                post_data[key].append(0)  #default value for non-numeric data\n",
    "        except KeyError:\n",
    "            post_data[key].append(0)  #default value for missing keys\n",
    "\n",
    "#create a dataFrame\n",
    "post_data = pd.DataFrame({\n",
    "    'Title': titles,\n",
    "    'Creation Timestamp': timestamps,\n",
    "    'Day of Creation': days_of_week,\n",
    "    'Hour of Creation': hours_of_creation,\n",
    "    **post_data  # Unpack the post_data dictionary\n",
    "})\n",
    "\n",
    "#print the dataFrame\n",
    "post_data.head()"
   ]
  },
  {
   "cell_type": "code",
   "execution_count": null,
   "id": "409916a4-d81b-4960-8ea4-152ccfec25a4",
   "metadata": {},
   "outputs": [],
   "source": [
    "##optional step to filter out posts for specific dates. Remove only one # from the start of each each line if running this code\n",
    "#post_data['Creation Timestamp'] = pd.to_datetime(post_data['Creation Timestamp'])\n",
    "\n",
    "#start_date = pd.Timestamp('2023-03-31') #change your start date accordingly\n",
    "#end_date = pd.Timestamp('2024-04-01') #change your end date\n",
    "#post_data = post_data[(post_data['Creation Timestamp'] >= start_date) & (post_data['Creation Timestamp'] < end_date)]"
   ]
  },
  {
   "cell_type": "code",
   "execution_count": null,
   "id": "545c46a8-2c6d-40f1-b4a9-621bda1ca26b",
   "metadata": {},
   "outputs": [],
   "source": [
    "#available metrics for posts: Profile visits, Impressions, Follows, Accounts reached, Saves, Likes, Comments, Shares\n",
    "#post_data.sort_values(by='insert one of above metrics here', ascending = False)\n",
    "#This sorts all available posts according to the top metric selected\n",
    "#Replace 'insert one of above metrics here'\n",
    "post_data.sort_values(by='Likes', ascending = False)"
   ]
  },
  {
   "cell_type": "code",
   "execution_count": null,
   "id": "3aef4566-20ab-4697-9c25-be38c02b50b1",
   "metadata": {},
   "outputs": [],
   "source": [
    "#available metrics for posts: Profile visits, Impressions, Follows, Accounts reached, Saves, Likes, Comments, Shares\n",
    "#plot_average_interaction_day_time(post_data, 'Day of Creation', 'Hour of Creation', 'insert one of above metrics here', 'Images/yourfilename.png')\n",
    "#This plots a dot plot of the average of a selected metric for each time of the day and day of the week\n",
    "#Replace 'insert one of above metrics here' and 'yourfilename' with your ideal filename\n",
    "\n",
    "plot_average_interaction_day_time(post_data, 'Day of Creation', 'Hour of Creation', 'Likes', 'Images/posts_averagelikes_weektime.png')"
   ]
  },
  {
   "cell_type": "markdown",
   "id": "e8fc514f-56fc-4253-9e63-06f11cff3bcd",
   "metadata": {},
   "source": [
    "**6 Post Comments**\n",
    "\n",
    "This section prints out all the comments on posts that are not from the poster's account, removes uernames and gibberish characters. A wordcloud is then generated. No action required."
   ]
  },
  {
   "cell_type": "code",
   "execution_count": null,
   "id": "6a38a0ce-34fb-44c4-8be3-243fcfee0d8e",
   "metadata": {},
   "outputs": [],
   "source": [
    "#post comments\n",
    "with open('post_comments_1.json', 'r', encoding='utf-8') as file_object:\n",
    "    post_comments = json.load(file_object)"
   ]
  },
  {
   "cell_type": "code",
   "execution_count": null,
   "id": "fd0e3be5-240a-4aae-8976-e011a9a498f1",
   "metadata": {},
   "outputs": [],
   "source": [
    "#remove usernames (e.g. @username)\n",
    "def remove_usernames(comment):\n",
    "    return re.sub(r'(@[A-Za-z0-9_]+)', '', comment)"
   ]
  },
  {
   "cell_type": "code",
   "execution_count": null,
   "id": "b71b5941-a61c-43b0-a4cb-88bee19a73bc",
   "metadata": {},
   "outputs": [],
   "source": [
    "#filter out each comment that is not from lewisham_communityspace\n",
    "filtered_comments = [comment['string_map_data']['Comment']['value'] for comment in post_comments \n",
    "                     if 'Media Owner' not in comment['string_map_data'] or \n",
    "                     comment['string_map_data']['Media Owner']['value'] != 'lewisham_communityspace']\n",
    "\n",
    "#remove gibberish characters (emojis, etc.)\n",
    "cleaned_comments = [comment.encode('ascii', 'ignore').decode() for comment in filtered_comments]\n",
    "\n",
    "#apply function to remove usernames\n",
    "cleaned_comments_without_usernames = [remove_usernames(comment) for comment in cleaned_comments]\n",
    "\n",
    "#print the cleaned comments\n",
    "for comment in cleaned_comments_without_usernames:\n",
    "    print(comment)"
   ]
  },
  {
   "cell_type": "code",
   "execution_count": null,
   "id": "dbd90938-f74d-4d36-b60b-32c5f7c31cd0",
   "metadata": {},
   "outputs": [],
   "source": [
    "#create a WordCloud object\n",
    "wordcloud = WordCloud(width=800, height=400, background_color='white').generate(\" \".join(cleaned_comments_without_usernames))\n",
    "\n",
    "#display the word cloud\n",
    "plt.imshow(wordcloud, interpolation='bilinear')\n",
    "plt.axis(\"off\")\n",
    "#save the plot\n",
    "plt.savefig('Images/post_word_clouds.png', dpi=300, bbox_inches='tight', transparent = True) "
   ]
  },
  {
   "cell_type": "markdown",
   "id": "879b707a-a182-4a52-add6-685158480cb1",
   "metadata": {},
   "source": [
    "**7. Reels**\n",
    "\n",
    "This section allows you to see which reels performs better based on certain metrics, plot visuals of selected metric against space/time/space and time to understand when to post.\n",
    "\n",
    "Available metrics for reels: Accounts reached, Instagram Plays, Instagram Likes, Instagram Comments, Instagram Shares, Instagram Saves\n",
    "\n",
    "Available functions\n",
    "- reel_data.sort_values(by='insert one of above metrics here', ascending = False)\n",
    "     - This sorts all available reels according to the top metric selected\n",
    "     - Replace 'insert one of above metrics here'\n",
    "- plot_average_interaction_day(reel_data, 'Day of Creation', 'insert one of above metrics here', 'Images/yourfilename.png')\n",
    "     - This plots a bar graph of the selected metric for the entire week\n",
    "     - Replace 'insert one of above metrics here' and 'yourfilename' with your ideal filename\n",
    "- plot_average_interaction_time(reel_data, 'Hour of Creation', 'insert one of above metrics here', 'Images/yourfilename.png')\n",
    "     - This plots a line graph of the selected metric for the entire 24 hours in a day\n",
    "     - Replace 'insert one of above metrics here' and 'yourfilename' with your ideal filename\n",
    "- plot_average_interaction_day_time(reel_data, 'Day of Creation', 'Hour of Creation', 'insert one of above metrics here', 'Images/yourfilename.png')\n",
    "     - This plots a dot plot of the average of a selected metric for each time of the day and day of the week\n",
    "     - Replace 'insert one of above metrics here' and 'yourfilename' with your ideal filename"
   ]
  },
  {
   "cell_type": "code",
   "execution_count": null,
   "id": "0ae9d3ab-4f20-4fb9-8f92-f10c9ccdaeb5",
   "metadata": {},
   "outputs": [],
   "source": [
    "#load reels\n",
    "with open('reels.json', 'r', encoding='utf-8') as file_object:\n",
    "    reels = json.load(file_object)"
   ]
  },
  {
   "cell_type": "code",
   "execution_count": null,
   "id": "29229472-48a8-4ce5-862c-40aff538d1ff",
   "metadata": {},
   "outputs": [],
   "source": [
    "#initialize lists to store data\n",
    "titles = []\n",
    "timestamps = []\n",
    "days_of_week = []\n",
    "hours_of_creation = []\n",
    "\n",
    "#initialize a dictionary for fields to be converted to integers\n",
    "reel_data = { \n",
    "    'Duration': [], \n",
    "    'Accounts reached': [], \n",
    "    'Instagram Plays': [],\n",
    "    'Instagram Likes': [],\n",
    "    'Instagram Comments': [],\n",
    "    'Instagram Shares': [],\n",
    "    'Instagram Saves': []\n",
    "}\n",
    "\n",
    "#extract relevant data for reels \n",
    "for reel in reels['organic_insights_reels']: \n",
    "    titles.append(reel['media_map_data'].get('Media Thumbnail', {}).get('title', 'N/A'))\n",
    "    timestamp = reel['string_map_data']['Upload Timestamp']['timestamp'] \n",
    "    dt = datetime.datetime.fromtimestamp(timestamp)\n",
    "    timestamps.append(dt.strftime('%Y-%m-%d %H:%M:%S'))\n",
    "    days_of_week.append(dt.strftime('%A'))\n",
    "    hours_of_creation.append(dt.hour)\n",
    "\n",
    "    #convert specific fields to integers (new fields), handling errors\n",
    "    for key in reel_data.keys():  # Changed to reel_data\n",
    "        try:\n",
    "            value = reel['string_map_data'].get(key, {}).get('value', 'N/A') \n",
    "            # Check for duration separately as it might be a float\n",
    "            if key == 'Duration' and isinstance(value, (float, int)):\n",
    "                reel_data[key].append(int(value))  # Convert to integer seconds if float\n",
    "            elif isinstance(value, int):\n",
    "                reel_data[key].append(value)  # No change if already int\n",
    "            elif isinstance(value, str) and value.isdigit():\n",
    "                reel_data[key].append(int(value))\n",
    "            else:\n",
    "                reel_data[key].append(0)  # Default for non-numeric or missing\n",
    "        except KeyError:\n",
    "            reel_data[key].append(0)  # Default for missing keys\n",
    "\n",
    "#create a DataFrame\n",
    "reel_data = pd.DataFrame({ # Changed to reel_data\n",
    "    'Title': titles,\n",
    "    'Upload Timestamp': timestamps, \n",
    "    'Day of Creation': days_of_week,\n",
    "    'Hour of Creation': hours_of_creation,\n",
    "    **reel_data  # Unpack the reel_data dictionary \n",
    "})\n",
    "\n",
    "#print the DataFrame\n",
    "reel_data.head()"
   ]
  },
  {
   "cell_type": "code",
   "execution_count": null,
   "id": "14584062-6991-4ee9-a006-9a10a4c7da0a",
   "metadata": {},
   "outputs": [],
   "source": [
    "##optional step to filter out reels for specific dates. Remove only one # from the start of each each line if running this code\n",
    "#reel_data['Upload Timestamp'] = pd.to_datetime(reel_data['Upload Timestamp'])\n",
    "\n",
    "#start_date = pd.Timestamp('2023-03-31') #change your start date accordingly\n",
    "#end_date = pd.Timestamp('2024-04-01') #change your end date\n",
    "#reel_data = reel_data[(reel_data['Upload Timestamp'] >= start_date) & (reel_data['Upload Timestamp'] < end_date)]"
   ]
  },
  {
   "cell_type": "code",
   "execution_count": null,
   "id": "bfb139f1-ff36-4073-bb97-3482c382583d",
   "metadata": {},
   "outputs": [],
   "source": [
    "#available metrics for reels: Accounts reached, Instagram Plays, Instagram Likes, Instagram Comments, Instagram Shares, Instagram Saves\n",
    "#reel_data.sort_values(by='insert one of above metrics here', ascending = False)\n",
    "#This sorts all available reels according to the top metric selected\n",
    "#Replace 'insert one of above metrics here'\n",
    "reel_data.sort_values(by='Instagram Likes', ascending = False)"
   ]
  },
  {
   "cell_type": "code",
   "execution_count": null,
   "id": "60c81e0b-2a84-4f3e-8d4b-31d72c59599d",
   "metadata": {},
   "outputs": [],
   "source": [
    "#available metrics for reels: Accounts reached, Instagram Plays, Instagram Likes, Instagram Comments, Instagram Shares, Instagram Saves\n",
    "#plot_average_interaction_day_time(reel_data, 'Day of Creation', 'Hour of Creation', 'insert one of above metrics here', 'Images/yourfilename.png')\n",
    "#This plots a dot plot of the average of a selected metric for each time of the day and day of the week\n",
    "#Replace 'insert one of above metrics here' and 'yourfilename' with your ideal filename\n",
    "plot_average_interaction_day_time(reel_data, 'Day of Creation', 'Hour of Creation', 'Instagram Likes', 'Images/reels_averagelikes_weektime.png')"
   ]
  }
 ],
 "metadata": {
  "kernelspec": {
   "display_name": "Python 3 (ipykernel)",
   "language": "python",
   "name": "python3"
  },
  "language_info": {
   "codemirror_mode": {
    "name": "ipython",
    "version": 3
   },
   "file_extension": ".py",
   "mimetype": "text/x-python",
   "name": "python",
   "nbconvert_exporter": "python",
   "pygments_lexer": "ipython3",
   "version": "3.11.5"
  }
 },
 "nbformat": 4,
 "nbformat_minor": 5
}
