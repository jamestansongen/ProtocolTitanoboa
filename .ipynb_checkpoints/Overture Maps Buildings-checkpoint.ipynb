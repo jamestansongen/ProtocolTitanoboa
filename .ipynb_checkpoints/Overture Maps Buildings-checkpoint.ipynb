{
 "cells": [
  {
   "cell_type": "markdown",
   "id": "9c86a191",
   "metadata": {},
   "source": [
    "Tutorial Source: https://developmentseed.org/lonboard/latest/examples/overture-maps/"
   ]
  },
  {
   "cell_type": "code",
   "execution_count": 1,
   "id": "44bb9a19",
   "metadata": {},
   "outputs": [],
   "source": [
    "#import relevant packages\n",
    "import numpy as np\n",
    "import overturemaps\n",
    "from matplotlib.colors import LogNorm\n",
    "from palettable.colorbrewer.sequential import Oranges_9\n",
    "\n",
    "from lonboard import Map, PolygonLayer\n",
    "from lonboard.colormap import apply_continuous_cmap"
   ]
  },
  {
   "cell_type": "code",
   "execution_count": 2,
   "id": "320c2df5",
   "metadata": {},
   "outputs": [],
   "source": [
    "#create bounding box for region of interest (in this case London)\n",
    "#to find bounding box for region of interest, go to https://boundingbox.klokantech.com/ and select CSV in the dropdown box\n",
    "bbox = -0.5633,51.2351,0.3233,51.7304\n",
    "\n",
    "#New York bbox = -74.02169, 40.696423, -73.891338, 40.831263"
   ]
  },
  {
   "cell_type": "code",
   "execution_count": 3,
   "id": "ce1ab37f",
   "metadata": {},
   "outputs": [],
   "source": [
    "#fetches relevant data from AWS S3. May take a while for data to download\n",
    "table = overturemaps.record_batch_reader(\"building\", bbox).read_all()\n",
    "\n",
    "#temporarily required as of Lonboard 0.8 to avoid a Lonboard bug\n",
    "table = table.combine_chunks()"
   ]
  },
  {
   "cell_type": "code",
   "execution_count": 4,
   "id": "b74927aa",
   "metadata": {},
   "outputs": [],
   "source": [
    "#convert building height to a numpy array and replace null values with 1\n",
    "heights = table[\"height\"].to_numpy()\n",
    "heights = np.nan_to_num(heights, nan=1)"
   ]
  },
  {
   "cell_type": "code",
   "execution_count": 5,
   "id": "f8674e5e",
   "metadata": {},
   "outputs": [],
   "source": [
    "#most buildings have low height while others are very tall, thus need to normalise for visualisation\n",
    "normalizer = LogNorm(1, heights.max(), clip=True)\n",
    "normalized_heights = normalizer(heights)"
   ]
  },
  {
   "cell_type": "code",
   "execution_count": 6,
   "id": "b1b59c44",
   "metadata": {},
   "outputs": [
    {
     "data": {
      "image/png": "[encoded data removed]",
      "text/html": [
       "<div style=\"vertical-align: middle;\"><strong>Oranges</strong> </div><div class=\"cmap\"><img alt=\"Oranges colormap\" title=\"Oranges\" style=\"border: 1px solid #555;\" src=\"data:image/png;base64,iVBORw0KGgoAAAANSUhEUgAAAgAAAABACAYAAABsv8+/AAAAFnRFWHRUaXRsZQBPcmFuZ2VzIGNvbG9ybWFwAJwLXwAAABx0RVh0RGVzY3JpcHRpb24AT3JhbmdlcyBjb2xvcm1hcKeyuiYAAAAwdEVYdEF1dGhvcgBNYXRwbG90bGliIHYzLjcuMiwgaHR0cHM6Ly9tYXRwbG90bGliLm9yZx9CTh4AAAAydEVYdFNvZnR3YXJlAE1hdHBsb3RsaWIgdjMuNy4yLCBodHRwczovL21hdHBsb3RsaWIub3JnMeTROQAAAddJREFUeJzt1sFO4zAUQFF3/v9PWc82ZgEUkdZNGKhmcc/ZVHbSF6dSpXuZf1/mGGPMOceb989fW49z9z9r7sF6+d5z2+1vi3kn92/m/e/n7L+/mHP6+mJ/e9LcHz/3aP/g933Wennu55xrLuZe97eP/8n9c8zF/Ll7n9vnHMzdFvPOnn/73jk//1b39z+/Px5f3/bX/3HOYv/2nPefdzz//bhfl2P3s328zvq+3fr0fdfXuJy87/F6de7j97h8We9+nuW8716/Pu+35vzw+hxv7/1nAAA5AgAAggQAAAQJAAAIEgAAECQAACBIAABAkAAAgCABAABBAgAAggQAAAQJAAAIEgAAECQAACBIAABAkAAAgCABAABBAgAAggQAAAQJAAAIEgAAECQAACBIAABAkAAAgCABAABBAgAAggQAAAQJAAAIEgAAECQAACBIAABAkAAAgCABAABBAgAAggQAAAQJAAAIEgAAECQAACBIAABAkAAAgCABAABBAgAAggQAAAQJAAAIEgAAECQAACBIAABAkAAAgCABAABBAgAAggQAAAQJAAAIEgAAECQAACBIAABAkAAAgCABAABBAgAAggQAAAQJAAAIEgAAECQAACBIAABA0Cu5rt04cCG7bAAAAABJRU5ErkJggg==\"></div><div style=\"vertical-align: middle; max-width: 514px; display: flex; justify-content: space-between;\"><div style=\"float: left;\"><div title=\"#fff5ebff\" style=\"display: inline-block; width: 1em; height: 1em; margin: 0; vertical-align: middle; border: 1px solid #555; background-color: #fff5ebff;\"></div> under</div><div style=\"margin: 0 auto; display: inline-block;\">bad <div title=\"#00000000\" style=\"display: inline-block; width: 1em; height: 1em; margin: 0; vertical-align: middle; border: 1px solid #555; background-color: #00000000;\"></div></div><div style=\"float: right;\">over <div title=\"#7f2704ff\" style=\"display: inline-block; width: 1em; height: 1em; margin: 0; vertical-align: middle; border: 1px solid #555; background-color: #7f2704ff;\"></div></div>"
      ],
      "text/plain": [
       "<matplotlib.colors.LinearSegmentedColormap at 0x21333e4f2d0>"
      ]
     },
     "execution_count": 6,
     "metadata": {},
     "output_type": "execute_result"
    }
   ],
   "source": [
    "#apply colourmap to heights\n",
    "Oranges_9.mpl_colormap"
   ]
  },
  {
   "cell_type": "code",
   "execution_count": 7,
   "id": "278cd77b",
   "metadata": {},
   "outputs": [],
   "source": [
    "#apply values to the colourmap\n",
    "colors = apply_continuous_cmap(normalized_heights, Oranges_9)"
   ]
  },
  {
   "cell_type": "code",
   "execution_count": 8,
   "id": "ebe19647",
   "metadata": {},
   "outputs": [
    {
     "name": "stderr",
     "output_type": "stream",
     "text": [
      "C:\\Users\\HP\\anaconda3\\Lib\\site-packages\\lonboard\\_geoarrow\\ops\\reproject.py:23: UserWarning: No CRS exists on data. If no data is shown on the map, double check that your CRS is WGS84.\n",
      "  warn(\n"
     ]
    }
   ],
   "source": [
    "#create polygon layers and pass height and colours through it\n",
    "layer = PolygonLayer(\n",
    "    # Select only a few attribute columns from the table\n",
    "    table=table.select([\"id\", \"height\", \"geometry\", \"names\"]),\n",
    "    extruded=True,\n",
    "    get_elevation=heights,\n",
    "    get_fill_color=colors,\n",
    ")"
   ]
  },
  {
   "cell_type": "code",
   "execution_count": 9,
   "id": "b5faaa2d",
   "metadata": {
    "scrolled": false
   },
   "outputs": [
    {
     "data": {
      "application/vnd.jupyter.widget-view+json": {
       "model_id": "6369a49dde47408f90723fb8a9252763",
       "version_major": 2,
       "version_minor": 1
      },
      "text/plain": [
       "Map(layers=[PolygonLayer(extruded=True, get_elevation=<pyarrow.lib.FloatArray object at 0x000002135E79DB40>\n",
       "[\n",
       "…"
      ]
     },
     "execution_count": 9,
     "metadata": {},
     "output_type": "execute_result"
    }
   ],
   "source": [
    "view_state = {\n",
    "    \"longitude\": -0.118092,\n",
    "    \"latitude\": 51.509865,\n",
    "    \"zoom\": 12.726630492730596,\n",
    "    \"pitch\": 59.80465353190481,\n",
    "    \"bearing\": 13.243243243243244,\n",
    "}\n",
    "m = Map(layer, view_state=view_state)\n",
    "m\n",
    "\n",
    "#New York\n",
    "#    \"longitude\": -73.98416810282863,\n",
    "#    \"latitude\": 40.72651721370669,"
   ]
  }
 ],
 "metadata": {
  "kernelspec": {
   "display_name": "Python 3 (ipykernel)",
   "language": "python",
   "name": "python3"
  },
  "language_info": {
   "codemirror_mode": {
    "name": "ipython",
    "version": 3
   },
   "file_extension": ".py",
   "mimetype": "text/x-python",
   "name": "python",
   "nbconvert_exporter": "python",
   "pygments_lexer": "ipython3",
   "version": "3.11.5"
  }
 },
 "nbformat": 4,
 "nbformat_minor": 5
}
