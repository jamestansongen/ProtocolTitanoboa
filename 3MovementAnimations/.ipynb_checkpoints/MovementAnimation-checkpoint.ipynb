{
 "cells": [
  {
   "cell_type": "markdown",
   "id": "973c0e0e-d277-4691-b1ee-70e1bce5e71c",
   "metadata": {},
   "source": [
    "Tutorial Source: https://leafmap.org/maplibre/live_update_feature/"
   ]
  },
  {
   "cell_type": "code",
   "execution_count": 6,
   "id": "b7f4b43b-a556-44d7-9659-c8e388646ad2",
   "metadata": {},
   "outputs": [],
   "source": [
    "#uncomment if need to install package\n",
    "#%pip install \"leafmap[maplibre]\""
   ]
  },
  {
   "cell_type": "code",
   "execution_count": 8,
   "id": "e28b6acc-7f9c-463a-91a9-6ecb9b54f036",
   "metadata": {},
   "outputs": [],
   "source": [
    "#import packages\n",
    "import os\n",
    "import time\n",
    "import requests\n",
    "import leafmap.maplibregl as leafmap"
   ]
  },
  {
   "cell_type": "code",
   "execution_count": 83,
   "id": "8e01d7e5-90f0-443d-a248-1a79e038d6cc",
   "metadata": {},
   "outputs": [],
   "source": [
    "#set key\n",
    "os.environ[\"MAPTILER_KEY\"] = \"YOUR_API_KEY\""
   ]
  },
  {
   "cell_type": "code",
   "execution_count": 12,
   "id": "c9749b49-498e-49ee-9d04-c3466db4fed9",
   "metadata": {},
   "outputs": [],
   "source": [
    "MAPTILER_KEY = leafmap.get_api_key(\"MAPTILER_KEY\")\n",
    "style = f\"https://api.maptiler.com/maps/streets/style.json?key={MAPTILER_KEY}\""
   ]
  },
  {
   "cell_type": "code",
   "execution_count": 45,
   "id": "d6de6ec3-3835-439b-b986-d840627c12f8",
   "metadata": {},
   "outputs": [
    {
     "data": {
      "application/vnd.jupyter.widget-view+json": {
       "model_id": "5f38a1ce08eb4ddb8cc652f62f832506",
       "version_major": 2,
       "version_minor": 1
      },
      "text/plain": [
       "Map(height='600px', map_options={'bearing': 0, 'center': (-100, 40), 'pitch': 0, 'style': 'https://api.maptile…"
      ]
     },
     "execution_count": 45,
     "metadata": {},
     "output_type": "execute_result"
    }
   ],
   "source": [
    "m = leafmap.Map(center=[-100, 40], zoom=3, style=style)\n",
    "url = \"https://github.com/opengeos/datasets/releases/download/us/arc_with_bearings.geojson\"\n",
    "geojson = requests.get(url).json()\n",
    "#extract bearings\n",
    "bearings = geojson[\"features\"][0][\"properties\"][\"bearings\"]\n",
    "#extract coordinates\n",
    "coordinates = geojson[\"features\"][0][\"geometry\"][\"coordinates\"][:-1]\n",
    "#add geojson route to map \n",
    "m.add_geojson(geojson, name=\"route\")\n",
    "\n",
    "origin = [-122.414, 37.776] #SF\n",
    "destination = [-77.032, 38.913] #DC\n",
    "\n",
    "#creates a GeoJSON FeatureCollection containing a single point feature at the origin coordinates\n",
    "point = {\n",
    "    \"type\": \"FeatureCollection\",\n",
    "    \"features\": [\n",
    "        {\n",
    "            \"type\": \"Feature\",\n",
    "            \"properties\": {},\n",
    "            \"geometry\": {\"type\": \"Point\", \"coordinates\": origin},\n",
    "        }\n",
    "    ],\n",
    "}\n",
    "\n",
    "#defines a source for the map using the created GeoJSON point\n",
    "source = {\"type\": \"geojson\", \"data\": point}\n",
    "m.add_source(\"point\", source)\n",
    "\n",
    "#define and add layer for point\n",
    "layer = {\n",
    "    \"id\": \"point\",\n",
    "    \"source\": \"point\",\n",
    "    \"type\": \"symbol\",\n",
    "    \"layout\": {\n",
    "        \"icon-image\": \"airport_15\",\n",
    "        \"icon-rotate\": [\"get\", \"bearing\"],\n",
    "        \"icon-rotation-alignment\": \"map\",\n",
    "        \"icon-overlap\": \"always\",\n",
    "        \"icon-ignore-placement\": True,\n",
    "    },\n",
    "}\n",
    "m.add_layer(layer)\n",
    "m"
   ]
  },
  {
   "cell_type": "code",
   "execution_count": 48,
   "id": "58fa6555-9cc7-416e-b0bb-43383e8cb28c",
   "metadata": {},
   "outputs": [],
   "source": [
    "for index, coordinate in enumerate(coordinates):\n",
    "    point[\"features\"][0][\"geometry\"][\"coordinates\"] = coordinate\n",
    "    point[\"features\"][0][\"properties\"][\"bearing\"] = bearings[index]\n",
    "    m.set_data(\"point\", point)\n",
    "    time.sleep(0.05)"
   ]
  },
  {
   "cell_type": "markdown",
   "id": "edbf163a-3c7f-43c0-b0a9-a6091de43bd0",
   "metadata": {},
   "source": [
    "Tutorial Source: https://leafmap.org/maplibre/live_update_feature/"
   ]
  },
  {
   "cell_type": "code",
   "execution_count": 36,
   "id": "492ac711-8cfa-4eef-a0ec-2da8aff3cee7",
   "metadata": {},
   "outputs": [],
   "source": [
    "#uncomment if need to install package\n",
    "#%pip install \"leafmap[maplibre]\""
   ]
  },
  {
   "cell_type": "code",
   "execution_count": 34,
   "id": "586d5b25-0822-4606-a397-1f78815b4226",
   "metadata": {},
   "outputs": [],
   "source": [
    "import os\n",
    "import time\n",
    "import geopandas as gpd\n",
    "import leafmap.maplibregl as leafmap"
   ]
  },
  {
   "cell_type": "code",
   "execution_count": 85,
   "id": "c07a545b-cf64-4e4a-bfa9-aaa7bcab28af",
   "metadata": {},
   "outputs": [],
   "source": [
    "#set key\n",
    "os.environ[\"MAPTILER_KEY\"] = \"YOUR_API_KEY\""
   ]
  },
  {
   "cell_type": "code",
   "execution_count": 75,
   "id": "5b7d57dc-97da-41d7-b137-c4f1cb8bd7e1",
   "metadata": {},
   "outputs": [
    {
     "data": {
      "application/vnd.jupyter.widget-view+json": {
       "model_id": "ec44e823f1514d2fb091a3a2c6586411",
       "version_major": 2,
       "version_minor": 1
      },
      "text/plain": [
       "Map(height='600px', map_options={'bearing': 0, 'center': (-122.019807, 45.632433), 'pitch': 60, 'style': {'ver…"
      ]
     },
     "execution_count": 75,
     "metadata": {},
     "output_type": "execute_result"
    }
   ],
   "source": [
    "m = leafmap.Map(center=[-122.019807, 45.632433], zoom=14, pitch=60, style=\"3d-terrain\")\n",
    "m"
   ]
  },
  {
   "cell_type": "code",
   "execution_count": 77,
   "id": "3410839d-5d25-4852-ba49-2acf789d1d18",
   "metadata": {},
   "outputs": [
    {
     "name": "stdout",
     "output_type": "stream",
     "text": [
      "[(-122.019807, 45.632433), (-122.019767, 45.632453), (-122.01971, 45.632472), (-122.01971, 45.632505), (-122.019739, 45.632531)]\n"
     ]
    }
   ],
   "source": [
    "url = \"https://maplibre.org/maplibre-gl-js/docs/assets/hike.geojson\"\n",
    "gdf = gpd.read_file(url)\n",
    "coordinates = list(gdf.geometry[0].coords)\n",
    "print(coordinates[:5])"
   ]
  },
  {
   "cell_type": "code",
   "execution_count": 79,
   "id": "906ae08a-0f16-4038-92a8-b42e2c38a0bf",
   "metadata": {},
   "outputs": [],
   "source": [
    "source = {\n",
    "    \"type\": \"geojson\",\n",
    "    \"data\": {\n",
    "        \"type\": \"Feature\",\n",
    "        \"geometry\": {\"type\": \"LineString\", \"coordinates\": [coordinates[0]]},\n",
    "    },\n",
    "}\n",
    "m.add_source(\"trace\", source)\n",
    "layer = {\n",
    "    \"id\": \"trace\",\n",
    "    \"type\": \"line\",\n",
    "    \"source\": \"trace\",\n",
    "    \"paint\": {\"line-color\": \"yellow\", \"line-opacity\": 0.75, \"line-width\": 5},\n",
    "}\n",
    "m.add_layer(layer)\n",
    "m.jump_to({\"center\": coordinates[0], \"zoom\": 14})\n",
    "m.set_pitch(30)"
   ]
  },
  {
   "cell_type": "code",
   "execution_count": 81,
   "id": "674eab52-e9ea-455b-9f51-a9665f41772e",
   "metadata": {},
   "outputs": [],
   "source": [
    "for coord in coordinates:\n",
    "    time.sleep(0.005)\n",
    "    source[\"data\"][\"geometry\"][\"coordinates\"].append(coord)\n",
    "    m.set_data(\"trace\", source[\"data\"])\n",
    "    m.pan_to(coord)"
   ]
  }
 ],
 "metadata": {
  "kernelspec": {
   "display_name": "Python 3 (ipykernel)",
   "language": "python",
   "name": "python3"
  },
  "language_info": {
   "codemirror_mode": {
    "name": "ipython",
    "version": 3
   },
   "file_extension": ".py",
   "mimetype": "text/x-python",
   "name": "python",
   "nbconvert_exporter": "python",
   "pygments_lexer": "ipython3",
   "version": "3.11.5"
  }
 },
 "nbformat": 4,
 "nbformat_minor": 5
}
